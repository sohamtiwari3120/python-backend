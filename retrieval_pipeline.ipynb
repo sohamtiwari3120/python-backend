{
 "cells": [
  {
   "cell_type": "code",
   "execution_count": 2,
   "metadata": {},
   "outputs": [
    {
     "name": "stdout",
     "output_type": "stream",
     "text": [
      "\u001b[31mERROR: pip's dependency resolver does not currently take into account all the packages that are installed. This behaviour is the source of the following dependency conflicts.\n",
      "spacy 3.4.1 requires typer<0.5.0,>=0.3.0, but you have typer 0.9.0 which is incompatible.\u001b[0m\u001b[31m\n",
      "\u001b[0m\n",
      "\u001b[1m[\u001b[0m\u001b[34;49mnotice\u001b[0m\u001b[1;39;49m]\u001b[0m\u001b[39;49m A new release of pip is available: \u001b[0m\u001b[31;49m23.0.1\u001b[0m\u001b[39;49m -> \u001b[0m\u001b[32;49m23.3.1\u001b[0m\n",
      "\u001b[1m[\u001b[0m\u001b[34;49mnotice\u001b[0m\u001b[1;39;49m]\u001b[0m\u001b[39;49m To update, run: \u001b[0m\u001b[32;49m/Library/Developer/CommandLineTools/usr/bin/python3 -m pip install --upgrade pip\u001b[0m\n"
     ]
    }
   ],
   "source": [
    "!pip install -qU \\\n",
    "  langchain==0.0.162 \\\n",
    "  openai==0.27.7 \\\n",
    "  tiktoken==0.4.0 \\\n",
    "  \"pinecone-client[grpc]\"==2.2.2"
   ]
  },
  {
   "cell_type": "code",
   "execution_count": 3,
   "metadata": {},
   "outputs": [],
   "source": [
    "import tiktoken\n",
    "\n",
    "tiktoken.encoding_for_model('gpt-3.5-turbo')\n",
    "tokenizer = tiktoken.get_encoding('cl100k_base')\n",
    "\n",
    "# create the length function\n",
    "def tiktoken_len(text):\n",
    "    tokens = tokenizer.encode(\n",
    "        text,\n",
    "        disallowed_special=()\n",
    "    )\n",
    "    return len(tokens)"
   ]
  },
  {
   "cell_type": "code",
   "execution_count": 31,
   "metadata": {},
   "outputs": [],
   "source": [
    "from langchain.text_splitter import RecursiveCharacterTextSplitter\n",
    "\n",
    "text_splitter = RecursiveCharacterTextSplitter(\n",
    "    chunk_size=150,\n",
    "    chunk_overlap=20,\n",
    "    length_function=tiktoken_len,\n",
    "    separators=[\"\\n\\n\", \"\\n\", \" \", \"\"]\n",
    ")"
   ]
  },
  {
   "cell_type": "code",
   "execution_count": 5,
   "metadata": {},
   "outputs": [],
   "source": [
    "import os\n",
    "\n",
    "# get openai api key from platform.openai.com\n",
    "OPENAI_API_KEY = \"[OPENAI_API_KEY]\""
   ]
  },
  {
   "cell_type": "code",
   "execution_count": 7,
   "metadata": {},
   "outputs": [],
   "source": [
    "from langchain.embeddings.openai import OpenAIEmbeddings\n",
    "\n",
    "model_name = 'text-embedding-ada-002'\n",
    "\n",
    "embed = OpenAIEmbeddings(\n",
    "    model=model_name,\n",
    "    openai_api_key=OPENAI_API_KEY\n",
    ")"
   ]
  },
  {
   "cell_type": "code",
   "execution_count": 8,
   "metadata": {},
   "outputs": [
    {
     "name": "stdout",
     "output_type": "stream",
     "text": [
      "4\n"
     ]
    }
   ],
   "source": [
    "text_file_path = \"/Users/aditya_rathod/Desktop/Courses/Fall23/Capstone/python-backend/kb.txt\"\n",
    "file_text= open(text_file_path, \"r\").read()\n",
    "chunks = text_splitter.split_text(file_text)\n",
    "print(len(chunks))"
   ]
  },
  {
   "cell_type": "code",
   "execution_count": 9,
   "metadata": {},
   "outputs": [],
   "source": [
    "from langchain.embeddings.openai import OpenAIEmbeddings\n",
    "\n",
    "model_name = 'text-embedding-ada-002'\n",
    "\n",
    "embed = OpenAIEmbeddings(\n",
    "    model=model_name,\n",
    "    openai_api_key=OPENAI_API_KEY\n",
    ")"
   ]
  },
  {
   "cell_type": "code",
   "execution_count": 10,
   "metadata": {},
   "outputs": [
    {
     "data": {
      "text/plain": [
       "(4, 1536)"
      ]
     },
     "execution_count": 10,
     "metadata": {},
     "output_type": "execute_result"
    }
   ],
   "source": [
    "res = embed.embed_documents(chunks)\n",
    "len(res), len(res[0])"
   ]
  },
  {
   "cell_type": "code",
   "execution_count": 11,
   "metadata": {},
   "outputs": [],
   "source": [
    "index_name = 'capstone-langchain-retrieval-augmentation'"
   ]
  },
  {
   "cell_type": "code",
   "execution_count": 32,
   "metadata": {},
   "outputs": [],
   "source": [
    "import pinecone\n",
    "\n",
    "# find API key in console at app.pinecone.io\n",
    "PINECONE_API_KEY = os.getenv('PINECONE_API_KEY') or 'PINECONE_API_KEY'\n",
    "# find ENV (cloud region) next to API key in console\n",
    "PINECONE_ENVIRONMENT = os.getenv('PINECONE_ENVIRONMENT') or 'PINECONE_ENVIRONMENT'\n",
    "\n",
    "pinecone.init(\n",
    "    api_key=\"[pinecone_api_key]\",\n",
    "    environment=\"[pinecone_environment]\"\n",
    ")\n",
    "\n",
    "if index_name not in pinecone.list_indexes():\n",
    "    # we create a new index\n",
    "    pinecone.create_index(\n",
    "        name=index_name,\n",
    "        metric='cosine',\n",
    "        dimension=len(res[0])  # 1536 dim of text-embedding-ada-002\n",
    "    )"
   ]
  },
  {
   "cell_type": "code",
   "execution_count": 33,
   "metadata": {},
   "outputs": [
    {
     "data": {
      "text/plain": [
       "{'dimension': 1536,\n",
       " 'index_fullness': 0.0,\n",
       " 'namespaces': {'': {'vector_count': 4}},\n",
       " 'total_vector_count': 4}"
      ]
     },
     "execution_count": 33,
     "metadata": {},
     "output_type": "execute_result"
    }
   ],
   "source": [
    "index = pinecone.GRPCIndex(index_name)\n",
    "\n",
    "index.describe_index_stats()"
   ]
  },
  {
   "cell_type": "code",
   "execution_count": 34,
   "metadata": {},
   "outputs": [
    {
     "name": "stderr",
     "output_type": "stream",
     "text": [
      "100%|██████████| 1/1 [00:00<00:00, 236.63it/s]\n"
     ]
    }
   ],
   "source": [
    "from tqdm.auto import tqdm\n",
    "from uuid import uuid4\n",
    "\n",
    "batch_limit = 100\n",
    "\n",
    "texts = []\n",
    "metadatas = []\n",
    "data= [open(\"kb.txt\", \"r\").read()]\n",
    "for i, record in enumerate(tqdm(data)):\n",
    "    # first get metadata fields for this record\n",
    "    # metadata = {\n",
    "    #     'wiki-id': str(record['id']),\n",
    "    #     'source': record['url'],\n",
    "    #     'title': record['title']\n",
    "    # }\n",
    "    # now we create chunks from the record text\n",
    "    record_texts = text_splitter.split_text(record)\n",
    "    # create individual metadata dicts for each chunk\n",
    "    record_metadatas = [{\n",
    "        \"chunk\": j, \"text\": record\n",
    "    } for j, text in enumerate(record_texts)]\n",
    "    # append these to current batches\n",
    "    texts.extend(record_texts)\n",
    "    metadatas.extend(record_metadatas)\n",
    "    # if we have reached the batch_limit we can add texts\n",
    "    if len(texts) >= batch_limit:\n",
    "        ids = [str(uuid4()) for _ in range(len(texts))]\n",
    "        embeds = embed.embed_documents(texts)\n",
    "        index.upsert(vectors=zip(ids, embeds, metadatas))\n",
    "        texts = []\n",
    "        metadatas = []\n",
    "\n",
    "if len(texts) > 0:\n",
    "    ids = [str(uuid4()) for _ in range(len(texts))]\n",
    "    embeds = embed.embed_documents(texts)\n",
    "    index.upsert(vectors=zip(ids, embeds, metadatas))"
   ]
  },
  {
   "cell_type": "code",
   "execution_count": 35,
   "metadata": {},
   "outputs": [],
   "source": [
    "from langchain.vectorstores import Pinecone\n",
    "\n",
    "text_field = \"text\"\n",
    "\n",
    "# switch back to normal index for langchain\n",
    "index = pinecone.Index(index_name)\n",
    "\n",
    "vectorstore = Pinecone(\n",
    "    index, embed.embed_query, text_field\n",
    ")"
   ]
  },
  {
   "cell_type": "code",
   "execution_count": 36,
   "metadata": {},
   "outputs": [
    {
     "data": {
      "text/plain": [
       "[Document(page_content='What is a Fibonacci Series?\\nThe Fibonacci series is a sequence of numbers where each number is the sum of the two preceding ones. It starts from 0 and 1. The sequence goes: 0, 1, 1, 2, 3, 5, 8, 13, 21, and so on.\\n\\nTo make it even clearer:\\n\\nThe 1st number in the series is 0.\\nThe 2nd number in the series is 1.\\nThe 3rd number is the sum of the 1st and 2nd numbers: 0 + 1 = 1.\\nThe 4th number is the sum of the 2nd and 3rd numbers: 1 + 1 = 2.\\nAnd so on...\\nOrigin and Significance\\nThe series is named after Leonardo of Pisa, who was known as Fibonacci. He introduced this sequence to Western mathematics in his 1202 book \"Liber Abaci.\" However, it\\'s worth noting that the sequence had been previously described in Indian mathematics.\\n\\nThe Fibonacci sequence has many interesting properties and appears in various domains:\\n\\nIn nature: The arrangement of leaves on plants, the branching of trees, and the spiral patterns of sunflower seeds often follow the Fibonacci sequence.\\nIn art and architecture: The \"Golden Ratio,\" derived from the Fibonacci sequence, is said to produce aesthetically pleasing designs and artworks.\\nIn finance: Some traders believe that stock prices move in patterns that can be explained and predicted using Fibonacci numbers.\\nGenerating the Fibonacci Series\\nNow, let\\'s explain how one can generate a Fibonacci series in plain English, without delving into code:\\n\\nInitialize Two Values: Start with two initial numbers, typically 0 and 1. These numbers are often referred to as \"seed\" values.\\n\\nAddition Process: Add the last two numbers to get the next number. For instance, you\\'d start by adding 0 and 1 to get 1, then 1 and 1 to get 2, then 1 and 2 to get 3, and so on.\\n\\nRepeat: Continue this process for as long as you want the series to extend. If you want a series of length 10, you\\'d repeat this process 8 more times after the initial two numbers.\\n\\nKeep Track: While generating the series, always remember the last two numbers because you\\'ll need them to get the next number. This means, as you move forward, you might need to forget the oldest number of the pair you\\'re considering and remember the number you\\'ve just calculated.\\n\\nOptimization (optional): If you\\'re trying to find a specific number in the sequence (like the 100th number), there are more advanced techniques than just adding numbers sequentially. Some methods use mathematical properties of the sequence to \"jump ahead\" without calculating every single preceding number.\\n\\nAnd that, in a nutshell, is the Fibonacci series and a simple way to generate it. When you do move to coding it, you\\'ll find that the plain-English logic translates quite directly into most programming languages!\\n\\n\\n\\nWhat is Dynamic Programming?\\nDynamic programming (DP) is a method used for solving complex problems by breaking them down into smaller, simpler subproblems. These subproblems are solved and stored for future reference, so if the same problem comes up again, we can simply look up the solution rather than re-solving it from scratch. This is particularly beneficial for optimization problems where you want to find the best possible solution out of many.\\n\\nImagine it like constructing a jigsaw puzzle: instead of trying to piece the entire scene together in your mind at once, you\\'d solve little sections of it separately, and then use those solved sections to help you see the bigger picture.\\n\\nKey Concepts in Dynamic Programming:\\nOverlapping Subproblems: This is the hallmark feature of DP. For a problem to be solved using dynamic programming, it should be broken down into smaller subproblems which are not independent, i.e., they overlap and are reused multiple times.\\n\\nFor example, imagine if you are climbing stairs and you can take either 1 step or 2 steps at a time. To find out the number of ways to climb a set of stairs, you would need to calculate the ways to climb the smaller sets of stairs you\\'d reach with each step. Here, each smaller set of stairs is a subproblem of the main problem.\\n\\nOptimal Substructure: A problem has an optimal substructure if its overall optimal solution can be constructed from the optimal solutions of its subproblems. This is the foundation of the divide-and-conquer characteristic of DP.\\n\\nLet\\'s use our stairs example: To get the total number of ways to reach the 5th step, you can add the number of ways to reach the 3rd step (assuming you took a 2-step from there) and the number of ways to reach the 4th step (assuming you took a 1-step from there).\\n\\nMemoization: This is the technique of storing solutions to overlapping subproblems to avoid redundant computations. It\\'s like making notes while studying; if you come across a topic you\\'ve already made notes on, you don\\'t need to study it from scratch again.\\n\\nIn the context of our stair-climbing problem, once you calculate the number of ways to reach the 3rd step, you would store that number. So, when you need that information later (like when computing for the 5th step), you simply reference it instead of recalculating.\\n\\nTabulation: This is a bottom-up approach where you solve the problem by solving all the related subproblems first, typically by using iteration. Think of it like filling up a table with solutions starting from the simplest, known solutions and building up.\\n\\nHow Dynamic Programming Works:\\nCharacterize the Structure of an Optimal Solution: Determine how to break the problem into subproblems.\\n\\nDefine the Value of an Optimal Solution: This is done recursively in terms of the value of other solutions.\\n\\nCompute the Value of an Optimal Solution: This is typically done in a bottom-up fashion. Start with the smallest subproblems, solve them, and build up to solve larger subproblems using the solutions to the smaller ones.\\n\\nConstruct an Optimal Solution: Once you\\'ve solved all your subproblems, use the stored information to build the solution to the original problem.\\n\\nWhy Use Dynamic Programming?\\nIt\\'s all about efficiency. Many problems that could take ages to solve through brute force (trying every possible combination) can be solved more efficiently using DP. However, it\\'s worth noting that not every problem can or should be approached with dynamic programming. It\\'s most beneficial for problems that have overlapping subproblems and optimal substructures.\\n\\nIn summary, dynamic programming is like using building blocks to solve a large structure, where each block is a solution to a smaller problem. And instead of constantly re-making blocks, you save and reuse them to efficiently construct the whole building.', metadata={'chunk': 5.0})]"
      ]
     },
     "execution_count": 36,
     "metadata": {},
     "output_type": "execute_result"
    }
   ],
   "source": [
    "query = \"What is dynamic programming?\"\n",
    "\n",
    "vectorstore.similarity_search(\n",
    "    query,  # our search query\n",
    "    k=1  # return 3 most relevant docs\n",
    ")"
   ]
  },
  {
   "cell_type": "code",
   "execution_count": 39,
   "metadata": {},
   "outputs": [],
   "source": [
    "from langchain.chat_models import ChatOpenAI\n",
    "from langchain.chains import RetrievalQA\n",
    "\n",
    "# completion llm\n",
    "llm = ChatOpenAI(\n",
    "    openai_api_key=OPENAI_API_KEY,\n",
    "    model_name='gpt-3.5-turbo-16k',\n",
    "    temperature=0.0\n",
    ")\n",
    "\n",
    "qa = RetrievalQA.from_chain_type(\n",
    "    llm=llm,\n",
    "    chain_type=\"stuff\",\n",
    "    retriever=vectorstore.as_retriever()\n",
    ")"
   ]
  },
  {
   "cell_type": "code",
   "execution_count": 40,
   "metadata": {},
   "outputs": [
    {
     "data": {
      "text/plain": [
       "'Dynamic programming (DP) is a method used for solving complex problems by breaking them down into smaller, simpler subproblems. These subproblems are solved and stored for future reference, so if the same problem comes up again, we can simply look up the solution rather than re-solving it from scratch. This is particularly beneficial for optimization problems where you want to find the best possible solution out of many.\\n\\nThe key concepts in dynamic programming include overlapping subproblems, optimal substructure, memoization, and tabulation. Overlapping subproblems refer to breaking down a problem into smaller subproblems that are not independent and are reused multiple times. Optimal substructure means that the overall optimal solution can be constructed from the optimal solutions of its subproblems. Memoization is the technique of storing solutions to overlapping subproblems to avoid redundant computations. Tabulation is a bottom-up approach where you solve the problem by solving all the related subproblems first.\\n\\nDynamic programming works by characterizing the structure of an optimal solution, defining the value of an optimal solution recursively, computing the value of an optimal solution in a bottom-up fashion, and constructing an optimal solution using the stored information.\\n\\nDynamic programming is used for solving problems more efficiently, especially those with overlapping subproblems and optimal substructures. It allows us to save and reuse solutions to subproblems, leading to improved efficiency compared to brute force methods.'"
      ]
     },
     "execution_count": 40,
     "metadata": {},
     "output_type": "execute_result"
    }
   ],
   "source": [
    "qa.run(query)"
   ]
  }
 ],
 "metadata": {
  "kernelspec": {
   "display_name": "base",
   "language": "python",
   "name": "python3"
  },
  "language_info": {
   "codemirror_mode": {
    "name": "ipython",
    "version": 3
   },
   "file_extension": ".py",
   "mimetype": "text/x-python",
   "name": "python",
   "nbconvert_exporter": "python",
   "pygments_lexer": "ipython3",
   "version": "3.9.6"
  }
 },
 "nbformat": 4,
 "nbformat_minor": 2
}
